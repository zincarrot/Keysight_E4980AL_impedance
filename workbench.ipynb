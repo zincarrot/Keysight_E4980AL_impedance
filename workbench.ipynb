{
 "cells": [
  {
   "cell_type": "code",
   "execution_count": 9,
   "metadata": {},
   "outputs": [
    {
     "name": "stdout",
     "output_type": "stream",
     "text": [
      "Keysight Technologies,E4980AL,MY54305061,B.07.01\n",
      "\n",
      "RX\n",
      "\n"
     ]
    }
   ],
   "source": [
    "import pyvisa\n",
    "\n",
    "rm = pyvisa.ResourceManager()\n",
    "rm.list_resources()\n",
    "inst = rm.open_resource('GPIB0::17::INSTR')\n",
    "\n",
    "inst.write(\"*IDN?\")\n",
    "print(inst.read())\n",
    "\n",
    "inst.write(\":CORR:LOAD:TYPE RX\")\n",
    "inst.write(\":CORR:LOAD:TYPE?\")\n",
    "print(inst.read())"
   ]
  },
  {
   "cell_type": "code",
   "execution_count": 13,
   "metadata": {},
   "outputs": [],
   "source": [
    "%load_ext autoreload\n",
    "%autoreload 2\n"
   ]
  }
 ],
 "metadata": {
  "kernelspec": {
   "display_name": "base",
   "language": "python",
   "name": "python3"
  },
  "language_info": {
   "codemirror_mode": {
    "name": "ipython",
    "version": 3
   },
   "file_extension": ".py",
   "mimetype": "text/x-python",
   "name": "python",
   "nbconvert_exporter": "python",
   "pygments_lexer": "ipython3",
   "version": "3.9.13"
  },
  "orig_nbformat": 4
 },
 "nbformat": 4,
 "nbformat_minor": 2
}
